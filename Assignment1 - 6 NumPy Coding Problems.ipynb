{
 "cells": [
  {
   "cell_type": "code",
   "execution_count": 1,
   "id": "cefb1b40",
   "metadata": {},
   "outputs": [],
   "source": [
    "# 1. Create a null vector of size 10 but the fifth value which is 1.\n"
   ]
  },
  {
   "cell_type": "code",
   "execution_count": 2,
   "id": "748a807b",
   "metadata": {},
   "outputs": [
    {
     "data": {
      "text/plain": [
       "array([0., 0., 0., 0., 0., 0., 0., 0., 0., 0.])"
      ]
     },
     "execution_count": 2,
     "metadata": {},
     "output_type": "execute_result"
    }
   ],
   "source": [
    "import numpy as np\n",
    "null_vector = np.zeros(10)\n",
    "null_vector"
   ]
  },
  {
   "cell_type": "code",
   "execution_count": 7,
   "id": "347bbc76",
   "metadata": {},
   "outputs": [
    {
     "data": {
      "text/plain": [
       "array([0., 0., 0., 0., 1., 0., 0., 0., 0., 0.])"
      ]
     },
     "execution_count": 7,
     "metadata": {},
     "output_type": "execute_result"
    }
   ],
   "source": [
    "null_vector[4]= 1\n",
    "null_vector"
   ]
  },
  {
   "cell_type": "code",
   "execution_count": 8,
   "id": "150b4c9b",
   "metadata": {},
   "outputs": [],
   "source": [
    "# 2. Create a vector with values ranging from 10 to 49."
   ]
  },
  {
   "cell_type": "code",
   "execution_count": 10,
   "id": "0f553253",
   "metadata": {},
   "outputs": [
    {
     "data": {
      "text/plain": [
       "array([10, 11, 12, 13, 14, 15, 16, 17, 18, 19, 20, 21, 22, 23, 24, 25, 26,\n",
       "       27, 28, 29, 30, 31, 32, 33, 34, 35, 36, 37, 38, 39, 40, 41, 42, 43,\n",
       "       44, 45, 46, 47, 48, 49])"
      ]
     },
     "execution_count": 10,
     "metadata": {},
     "output_type": "execute_result"
    }
   ],
   "source": [
    "vector = np.arange(10,50)\n",
    "vector"
   ]
  },
  {
   "cell_type": "code",
   "execution_count": 11,
   "id": "28e73461",
   "metadata": {},
   "outputs": [],
   "source": [
    "# 3. Create a 3x3 matrix with values ranging from 0 to 8"
   ]
  },
  {
   "cell_type": "code",
   "execution_count": 12,
   "id": "931a2a3d",
   "metadata": {},
   "outputs": [
    {
     "data": {
      "text/plain": [
       "array([0, 1, 2, 3, 4, 5, 6, 7, 8])"
      ]
     },
     "execution_count": 12,
     "metadata": {},
     "output_type": "execute_result"
    }
   ],
   "source": [
    "matrix = np.arange(9)\n",
    "matrix"
   ]
  },
  {
   "cell_type": "code",
   "execution_count": 18,
   "id": "694dd938",
   "metadata": {},
   "outputs": [
    {
     "data": {
      "text/plain": [
       "array([[0, 1, 2],\n",
       "       [3, 4, 5],\n",
       "       [6, 7, 8]])"
      ]
     },
     "execution_count": 18,
     "metadata": {},
     "output_type": "execute_result"
    }
   ],
   "source": [
    "matrix = np.arange(9).reshape((3,3))\n",
    "matrix"
   ]
  },
  {
   "cell_type": "code",
   "execution_count": 19,
   "id": "1e0a7e06",
   "metadata": {},
   "outputs": [],
   "source": [
    "#4. Find indices of non-zero elements from [1,2,0,0,4,0]"
   ]
  },
  {
   "cell_type": "code",
   "execution_count": 20,
   "id": "36631da3",
   "metadata": {},
   "outputs": [
    {
     "name": "stdout",
     "output_type": "stream",
     "text": [
      "(array([0, 1, 4], dtype=int64),)\n"
     ]
    }
   ],
   "source": [
    "array1 = np.array([1,2,0,0,4,0])\n",
    "non_zero = np.nonzero(array1)\n",
    "print(non_zero)"
   ]
  },
  {
   "cell_type": "code",
   "execution_count": 21,
   "id": "d8b05639",
   "metadata": {},
   "outputs": [],
   "source": [
    "# 5. Create a 10x10 array with random values and find the minimum and maximum values."
   ]
  },
  {
   "cell_type": "code",
   "execution_count": 24,
   "id": "fb48cca7",
   "metadata": {},
   "outputs": [
    {
     "data": {
      "text/plain": [
       "array([[0.81744333, 0.12931924, 0.29148937, 0.06599687, 0.56389913,\n",
       "        0.1932963 , 0.74355031, 0.85739683, 0.95784475, 0.12621082],\n",
       "       [0.16904148, 0.33872613, 0.11328399, 0.31372364, 0.27727235,\n",
       "        0.67724285, 0.67308631, 0.48288554, 0.50410776, 0.34103911],\n",
       "       [0.23017314, 0.56124295, 0.11517962, 0.11960102, 0.84196467,\n",
       "        0.7090585 , 0.52818811, 0.73581059, 0.41919103, 0.59442885],\n",
       "       [0.64298094, 0.73385185, 0.42695456, 0.30960592, 0.23976283,\n",
       "        0.73376493, 0.10619028, 0.75856896, 0.13525816, 0.28750453],\n",
       "       [0.90815391, 0.68707901, 0.13734994, 0.52047542, 0.31973467,\n",
       "        0.72953459, 0.65392898, 0.91912334, 0.16466393, 0.66955554],\n",
       "       [0.87701302, 0.18833299, 0.47830746, 0.7116936 , 0.67260158,\n",
       "        0.81167538, 0.02175275, 0.08361609, 0.6889546 , 0.67239112],\n",
       "       [0.41649563, 0.91201527, 0.31135313, 0.73054645, 0.26047557,\n",
       "        0.16610721, 0.78804034, 0.35409173, 0.09803337, 0.80716317],\n",
       "       [0.02013287, 0.14378543, 0.76827895, 0.70886794, 0.10606675,\n",
       "        0.35945482, 0.40676276, 0.66984195, 0.93817759, 0.46962836],\n",
       "       [0.17509139, 0.7461445 , 0.801549  , 0.51258721, 0.99345374,\n",
       "        0.16874088, 0.57477682, 0.04784874, 0.27665498, 0.60849171],\n",
       "       [0.68667245, 0.88010264, 0.50920797, 0.19901242, 0.562684  ,\n",
       "        0.4272163 , 0.53465024, 0.5810092 , 0.90918765, 0.9768222 ]])"
      ]
     },
     "execution_count": 24,
     "metadata": {},
     "output_type": "execute_result"
    }
   ],
   "source": [
    "array2 = np.random.random((10,10))\n",
    "array2\n"
   ]
  },
  {
   "cell_type": "code",
   "execution_count": 28,
   "id": "4607badb",
   "metadata": {},
   "outputs": [
    {
     "data": {
      "text/plain": [
       "0.02013286803715264"
      ]
     },
     "execution_count": 28,
     "metadata": {},
     "output_type": "execute_result"
    }
   ],
   "source": [
    "min_value = np.min(array2)\n",
    "min_value\n"
   ]
  },
  {
   "cell_type": "code",
   "execution_count": 29,
   "id": "e2451bae",
   "metadata": {},
   "outputs": [
    {
     "data": {
      "text/plain": [
       "0.993453736113448"
      ]
     },
     "execution_count": 29,
     "metadata": {},
     "output_type": "execute_result"
    }
   ],
   "source": [
    "max_value = np.max(array2)\n",
    "max_value"
   ]
  },
  {
   "cell_type": "code",
   "execution_count": 30,
   "id": "4b70f4ff",
   "metadata": {},
   "outputs": [],
   "source": [
    "# 6. Create a random vector of size 30 and find the mean value."
   ]
  },
  {
   "cell_type": "code",
   "execution_count": 31,
   "id": "def18cec",
   "metadata": {},
   "outputs": [
    {
     "data": {
      "text/plain": [
       "array([0.59746065, 0.51111755, 0.52301127, 0.81945097, 0.85272476,\n",
       "       0.90135576, 0.18876949, 0.84918016, 0.07775253, 0.78080403,\n",
       "       0.90465542, 0.67112263, 0.47344202, 0.28191962, 0.61083926,\n",
       "       0.34107695, 0.52361838, 0.17308721, 0.9911136 , 0.84799475,\n",
       "       0.56487152, 0.53840047, 0.60340427, 0.64011613, 0.1282813 ,\n",
       "       0.57520163, 0.68965647, 0.97873365, 0.35680035, 0.0632247 ])"
      ]
     },
     "execution_count": 31,
     "metadata": {},
     "output_type": "execute_result"
    }
   ],
   "source": [
    "random_vector = np.random.random(30)\n",
    "random_vector"
   ]
  },
  {
   "cell_type": "code",
   "execution_count": 32,
   "id": "8072bb1a",
   "metadata": {},
   "outputs": [
    {
     "data": {
      "text/plain": [
       "0.5686395822876091"
      ]
     },
     "execution_count": 32,
     "metadata": {},
     "output_type": "execute_result"
    }
   ],
   "source": [
    "mean_value = np.mean(random_vector)\n",
    "mean_value"
   ]
  },
  {
   "cell_type": "code",
   "execution_count": null,
   "id": "93aa37c1",
   "metadata": {},
   "outputs": [],
   "source": []
  }
 ],
 "metadata": {
  "kernelspec": {
   "display_name": "Python 3 (ipykernel)",
   "language": "python",
   "name": "python3"
  },
  "language_info": {
   "codemirror_mode": {
    "name": "ipython",
    "version": 3
   },
   "file_extension": ".py",
   "mimetype": "text/x-python",
   "name": "python",
   "nbconvert_exporter": "python",
   "pygments_lexer": "ipython3",
   "version": "3.11.5"
  }
 },
 "nbformat": 4,
 "nbformat_minor": 5
}
