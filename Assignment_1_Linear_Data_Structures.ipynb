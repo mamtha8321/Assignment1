{
  "nbformat": 4,
  "nbformat_minor": 0,
  "metadata": {
    "colab": {
      "provenance": []
    },
    "kernelspec": {
      "name": "python3",
      "display_name": "Python 3"
    },
    "language_info": {
      "name": "python"
    }
  },
  "cells": [
    {
      "cell_type": "markdown",
      "source": [
        "\n",
        "#1.Delete the elements in an linked list whose sum is equal to zero"
      ],
      "metadata": {
        "id": "mtXgci_JBVmt"
      }
    },
    {
      "cell_type": "code",
      "execution_count": 2,
      "metadata": {
        "id": "LQZY4OdNAgZS"
      },
      "outputs": [],
      "source": [
        "class ListNode:\n",
        "    def __init__(self, val=0, next=None):\n",
        "        self.val = val\n",
        "        self.next = next\n",
        "\n",
        "def delete_zero_sum_nodes(head: ListNode) -> ListNode:\n",
        "    dummy = ListNode(0)\n",
        "    dummy.next = head\n",
        "\n",
        "    prefix_sum = 0\n",
        "    seen = {0: dummy}\n",
        "\n",
        "    curr = head\n",
        "    while curr:\n",
        "        prefix_sum += curr.val\n",
        "        seen[prefix_sum] = curr\n",
        "        curr = curr.next\n",
        "\n",
        "    prefix_sum = 0\n",
        "    curr = dummy\n",
        "    while curr:\n",
        "        prefix_sum += curr.val\n",
        "        curr.next = seen[prefix_sum].next\n",
        "        curr = curr.next\n",
        "\n",
        "    return dummy.next"
      ]
    },
    {
      "cell_type": "markdown",
      "source": [
        "#2.Reverse a linked list in groups of given size"
      ],
      "metadata": {
        "id": "N07jP_47EkbN"
      }
    },
    {
      "cell_type": "code",
      "source": [
        "class Node:\n",
        "    def __init__(self, val):\n",
        "        self.val = val\n",
        "        self.next = None\n",
        "\n",
        "def reverse_group(head, k):\n",
        "    current = head\n",
        "    prev = None\n",
        "    next = None\n",
        "    count = 0\n",
        "\n",
        "    while current is not None and count < k:\n",
        "        next = current.next\n",
        "        current.next = prev\n",
        "        prev = current\n",
        "        current = next\n",
        "        count += 1\n",
        "\n",
        "    if next is not None:\n",
        "        head.next = reverse_group(next, k)\n",
        "\n",
        "    return prev"
      ],
      "metadata": {
        "id": "qD4auFMeBYME"
      },
      "execution_count": 4,
      "outputs": []
    },
    {
      "cell_type": "markdown",
      "source": [
        "#3.Merge a linked list into another linked list at alternate positions"
      ],
      "metadata": {
        "id": "eVs_ahqPEmJx"
      }
    },
    {
      "cell_type": "code",
      "source": [
        "class Node:\n",
        "    def __init__(self, val):\n",
        "        self.val = val\n",
        "        self.next = None\n",
        "\n",
        "def merge_alternate(head1, head2):\n",
        "    p1 = head1\n",
        "    p2 = head2\n",
        "\n",
        "    while p1 is not None and p2 is not None:\n",
        "        temp = p1.next\n",
        "        p1.next = p2\n",
        "        p2 = p2.next\n",
        "        p1.next.next = temp\n",
        "        p1 = temp\n",
        "\n",
        "    if p2 is not None:\n",
        "        p1.next = p2\n",
        "\n",
        "    return head1"
      ],
      "metadata": {
        "id": "gHkxui8TEliA"
      },
      "execution_count": 3,
      "outputs": []
    },
    {
      "cell_type": "markdown",
      "source": [
        "#4.In an array, Count Pairs with given sum"
      ],
      "metadata": {
        "id": "GxJ-KE5TEtKi"
      }
    },
    {
      "cell_type": "code",
      "source": [
        "def count_pairs(arr, target_sum):\n",
        "    pairs = 0\n",
        "    for i in range(len(arr)):\n",
        "        for j in range(i+1, len(arr)):\n",
        "            if arr[i] + arr[j] == target_sum:\n",
        "                pairs += 1\n",
        "    return pairs\n",
        "\n",
        "\n",
        "print(count_pairs([1,2,3,6,3,5,6], 6 ))"
      ],
      "metadata": {
        "colab": {
          "base_uri": "https://localhost:8080/"
        },
        "id": "_16-ejynEre3",
        "outputId": "e35525e6-3616-4aa4-8ec1-0bbb71859ff4"
      },
      "execution_count": 5,
      "outputs": [
        {
          "output_type": "stream",
          "name": "stdout",
          "text": [
            "2\n"
          ]
        }
      ]
    },
    {
      "cell_type": "markdown",
      "source": [
        "#5.Find duplicates in an array"
      ],
      "metadata": {
        "id": "FKx5ER-SE3it"
      }
    },
    {
      "cell_type": "code",
      "source": [
        "def find_duplicates(arr):\n",
        "    duplicates = []\n",
        "    for i in range(len(arr)):\n",
        "        if arr[abs(arr[i])] >= 0:\n",
        "            arr[abs(arr[i])] = -arr[abs(arr[i])]\n",
        "        else:\n",
        "            duplicates.append(abs(arr[i]))\n",
        "    return duplicates"
      ],
      "metadata": {
        "id": "lPB9dcBUEx_2"
      },
      "execution_count": 7,
      "outputs": []
    },
    {
      "cell_type": "markdown",
      "source": [
        "#6.Find the Kth largest and Kth smallest number in an array"
      ],
      "metadata": {
        "id": "X9GR1K5yE4eR"
      }
    },
    {
      "cell_type": "code",
      "source": [
        "def kth_smallest_largest(arr, k):\n",
        "    sorted_arr = sorted(arr)\n",
        "    kth_smallest = sorted_arr[k-1]\n",
        "    kth_largest = sorted_arr[-k]\n",
        "    return kth_smallest, kth_largest\n",
        "\n",
        "\n",
        "print(kth_smallest_largest([1,2,4,2,6,84,65,5,4], 9))"
      ],
      "metadata": {
        "colab": {
          "base_uri": "https://localhost:8080/"
        },
        "id": "ia82mHr3E6a3",
        "outputId": "18c21b35-e62a-4369-b82d-8cbc8980fbeb"
      },
      "execution_count": 6,
      "outputs": [
        {
          "output_type": "stream",
          "name": "stdout",
          "text": [
            "(84, 1)\n"
          ]
        }
      ]
    },
    {
      "cell_type": "markdown",
      "source": [
        "#7.Move all the negative elements to one side of the array"
      ],
      "metadata": {
        "id": "S6ve1Oj8E_gO"
      }
    },
    {
      "cell_type": "code",
      "source": [
        "def move_negative_to_left(arr):\n",
        "    left = 0\n",
        "    right = len(arr) - 1\n",
        "    while left <= right:\n",
        "        if arr[left] < 0:\n",
        "            left += 1\n",
        "        elif arr[right] >= 0:\n",
        "            right -= 1\n",
        "        else:\n",
        "            arr[left], arr[right] = arr[right], arr[left]\n",
        "            left += 1\n",
        "            right -= 1\n",
        "    return arr\n",
        "\n",
        "\n",
        "print(move_negative_to_left([1,2,-3,5,3,-4,-2,-5]))"
      ],
      "metadata": {
        "colab": {
          "base_uri": "https://localhost:8080/"
        },
        "id": "TLYhNgxjE86F",
        "outputId": "c0c370d2-0e80-422c-bd01-149abdd159ff"
      },
      "execution_count": 8,
      "outputs": [
        {
          "output_type": "stream",
          "name": "stdout",
          "text": [
            "[-5, -2, -3, -4, 3, 5, 2, 1]\n"
          ]
        }
      ]
    },
    {
      "cell_type": "markdown",
      "source": [
        "#8.Reverse a string using a stack data structure"
      ],
      "metadata": {
        "id": "y8VHrMJuFKQ8"
      }
    },
    {
      "cell_type": "code",
      "source": [
        "def reverse_string(s):\n",
        "    stack = []\n",
        "    for c in s:\n",
        "        stack.append(c)\n",
        "    reversed_s = \"\"\n",
        "    while len(stack) > 0:\n",
        "        reversed_s += stack.pop()\n",
        "    return reversed_s\n",
        "\n",
        "s = \"Hello, World!\"\n",
        "reversed_s = reverse_string(s)\n",
        "print(reversed_s)\n"
      ],
      "metadata": {
        "colab": {
          "base_uri": "https://localhost:8080/"
        },
        "id": "bJs3QezqFE6P",
        "outputId": "e1901a38-f943-4b25-ea9b-97c5dd11a318"
      },
      "execution_count": 9,
      "outputs": [
        {
          "output_type": "stream",
          "name": "stdout",
          "text": [
            "!dlroW ,olleH\n"
          ]
        }
      ]
    },
    {
      "cell_type": "markdown",
      "source": [
        "#9.Evaluate a postfix expression using stack"
      ],
      "metadata": {
        "id": "GRI8A_A-FO6K"
      }
    },
    {
      "cell_type": "code",
      "source": [
        "def evaluate_postfix(expr):\n",
        "    stack = []\n",
        "    for char in expr:\n",
        "        if char.isdigit():\n",
        "            stack.append(int(char))\n",
        "        else:\n",
        "            val1 = stack.pop()\n",
        "            val2 = stack.pop()\n",
        "            if char == \"+\":\n",
        "                stack.append(val2 + val1)\n",
        "            elif char == \"-\":\n",
        "                stack.append(val2 - val1)\n",
        "            elif char == \"*\":\n",
        "                stack.append(val2 * val1)\n",
        "            elif char == \"/\":\n",
        "                stack.append(int(val2 / val1))\n",
        "    return stack.pop()\n",
        "\n",
        "\n",
        "expr = \"23+4*\"\n",
        "result = evaluate_postfix(expr)\n",
        "print(result)"
      ],
      "metadata": {
        "colab": {
          "base_uri": "https://localhost:8080/"
        },
        "id": "z_bFAJknFPaq",
        "outputId": "2bc8cf5d-83db-4aae-8ef4-0894c58bba8b"
      },
      "execution_count": 10,
      "outputs": [
        {
          "output_type": "stream",
          "name": "stdout",
          "text": [
            "20\n"
          ]
        }
      ]
    },
    {
      "cell_type": "markdown",
      "source": [
        "#10.Implement a queue using the stack data structure"
      ],
      "metadata": {
        "id": "YdOzIvHfFUw8"
      }
    },
    {
      "cell_type": "code",
      "source": [
        "class Queue:\n",
        "    def __init__(self):\n",
        "        self.stack1 = []\n",
        "        self.stack2 = []\n",
        "\n",
        "    def enqueue(self, item):\n",
        "        self.stack1.append(item)\n",
        "\n",
        "    def dequeue(self):\n",
        "        if not self.stack2:\n",
        "            while self.stack1:\n",
        "                self.stack2.append(self.stack1.pop())\n",
        "        if not self.stack2:\n",
        "            return None\n",
        "        return self.stack2.pop()\n",
        "\n",
        "    def size(self):\n",
        "        return len(self.stack1) + len(self.stack2)\n",
        "\n",
        "    def is_empty(self):\n",
        "        return self.size() == 0\n",
        "\n",
        "\n",
        "q = Queue()\n",
        "q.enqueue(1)\n",
        "q.enqueue(2)\n",
        "q.enqueue(3)\n",
        "print(q.dequeue())\n",
        "print(q.dequeue())\n",
        "q.enqueue(4)\n",
        "print(q.dequeue())\n",
        "print(q.dequeue())\n",
        "print(q.is_empty())"
      ],
      "metadata": {
        "colab": {
          "base_uri": "https://localhost:8080/"
        },
        "id": "M3LX1S_eFSfv",
        "outputId": "65e46f37-d0b1-4537-d7a9-b77ad88357ee"
      },
      "execution_count": 12,
      "outputs": [
        {
          "output_type": "stream",
          "name": "stdout",
          "text": [
            "1\n",
            "2\n",
            "3\n",
            "4\n",
            "True\n"
          ]
        }
      ]
    }
  ]
}